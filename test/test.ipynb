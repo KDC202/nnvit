{
 "cells": [
  {
   "cell_type": "code",
   "execution_count": 1,
   "metadata": {},
   "outputs": [
    {
     "name": "stdout",
     "output_type": "stream",
     "text": [
      "Original tensor shape: torch.Size([2, 6])\n",
      "Split tensor shape: torch.Size([2, 3, 2])\n"
     ]
    }
   ],
   "source": [
    "import torch\n",
    "\n",
    "# 假设有一个形状为 (b, dim) 的张量\n",
    "b = 2\n",
    "dim = 6\n",
    "tensor = torch.randn(b, dim)\n",
    "\n",
    "# 将张量分成形状为 (b, n, dim/n) 的张量\n",
    "n = 3\n",
    "tensor_split = tensor.view(b, n, dim // n)\n",
    "\n",
    "print(\"Original tensor shape:\", tensor.shape)\n",
    "print(\"Split tensor shape:\", tensor_split.shape)\n"
   ]
  },
  {
   "cell_type": "code",
   "execution_count": 3,
   "metadata": {},
   "outputs": [
    {
     "name": "stdout",
     "output_type": "stream",
     "text": [
      "tensor([ 1.2364, -0.2488,  1.4169,  0.0185])\n",
      "tensor([[ 1.2364, -0.2488,  1.4169,  0.0185],\n",
      "        [-0.7423, -0.6305, -0.0449, -0.3888],\n",
      "        [-0.6575,  1.3456, -0.7135, -0.6883],\n",
      "        [-1.0485, -0.3414,  0.0951, -0.0729]])\n",
      "Concatenated tensor shape: torch.Size([4, 4])\n"
     ]
    }
   ],
   "source": [
    "import torch\n",
    "\n",
    "# 创建一个形状为 (3, 4) 的张量\n",
    "tensor = torch.randn(3, 4)\n",
    "\n",
    "# 创建一个形状为 (4,) 的向量\n",
    "vector = torch.randn(4)\n",
    "print(vector)\n",
    "# 在首部拼接向量到张量\n",
    "concatenated_tensor = torch.cat([vector.unsqueeze(0), tensor], dim=0)\n",
    "\n",
    "print(concatenated_tensor)\n",
    "print(\"Concatenated tensor shape:\", concatenated_tensor.shape)\n"
   ]
  }
 ],
 "metadata": {
  "kernelspec": {
   "display_name": "sfy",
   "language": "python",
   "name": "python3"
  },
  "language_info": {
   "codemirror_mode": {
    "name": "ipython",
    "version": 3
   },
   "file_extension": ".py",
   "mimetype": "text/x-python",
   "name": "python",
   "nbconvert_exporter": "python",
   "pygments_lexer": "ipython3",
   "version": "3.8.19"
  }
 },
 "nbformat": 4,
 "nbformat_minor": 2
}
