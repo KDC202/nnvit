{
 "cells": [
  {
   "cell_type": "code",
   "execution_count": 11,
   "metadata": {},
   "outputs": [
    {
     "name": "stdout",
     "output_type": "stream",
     "text": [
      "Original tensor shape: torch.Size([2, 6])\n",
      "Split tensor shape: torch.Size([2, 3, 2])\n"
     ]
    }
   ],
   "source": [
    "import torch\n",
    "\n",
    "# 假设有一个形状为 (b, dim) 的张量\n",
    "b = 2\n",
    "dim = 6\n",
    "tensor = torch.randn(b, dim)\n",
    "\n",
    "# 将张量分成形状为 (b, n, dim/n) 的张量\n",
    "n = 3\n",
    "tensor_split = tensor.view(b, n, dim // n)\n",
    "\n",
    "print(\"Original tensor shape:\", tensor.shape)\n",
    "print(\"Split tensor shape:\", tensor_split.shape)\n"
   ]
  },
  {
   "cell_type": "code",
   "execution_count": 3,
   "metadata": {},
   "outputs": [
    {
     "name": "stdout",
     "output_type": "stream",
     "text": [
      "tensor([ 1.2364, -0.2488,  1.4169,  0.0185])\n",
      "tensor([[ 1.2364, -0.2488,  1.4169,  0.0185],\n",
      "        [-0.7423, -0.6305, -0.0449, -0.3888],\n",
      "        [-0.6575,  1.3456, -0.7135, -0.6883],\n",
      "        [-1.0485, -0.3414,  0.0951, -0.0729]])\n",
      "Concatenated tensor shape: torch.Size([4, 4])\n"
     ]
    }
   ],
   "source": [
    "import torch\n",
    "\n",
    "# 创建一个形状为 (3, 4) 的张量\n",
    "tensor = torch.randn(3, 4)\n",
    "\n",
    "# 创建一个形状为 (4,) 的向量\n",
    "vector = torch.randn(4)\n",
    "print(vector)\n",
    "# 在首部拼接向量到张量\n",
    "concatenated_tensor = torch.cat([vector.unsqueeze(0), tensor], dim=0)\n",
    "\n",
    "print(concatenated_tensor)\n",
    "print(\"Concatenated tensor shape:\", concatenated_tensor.shape)\n"
   ]
  },
  {
   "cell_type": "code",
   "execution_count": 1,
   "metadata": {},
   "outputs": [
    {
     "name": "stdout",
     "output_type": "stream",
     "text": [
      "First elements tensor shape: torch.Size([1024, 32])\n"
     ]
    }
   ],
   "source": [
    "import torch\n",
    "\n",
    "# 创建示例数据\n",
    "tensor = torch.randn(1024, 5, 32)\n",
    "\n",
    "# 取每组第一个元素\n",
    "first_elements = tensor[:, 0, :]\n",
    "\n",
    "print(\"First elements tensor shape:\", first_elements.shape)\n"
   ]
  },
  {
   "cell_type": "code",
   "execution_count": 9,
   "metadata": {},
   "outputs": [
    {
     "name": "stdout",
     "output_type": "stream",
     "text": [
      "Distances tensor shape: torch.Size([25000, 25000])\n"
     ]
    }
   ],
   "source": [
    "import torch\n",
    "\n",
    "# 创建示例数据\n",
    "tensor = torch.randn(25000, 128)\n",
    "\n",
    "# 计算两两之间的距离\n",
    "distances = torch.cdist(tensor, tensor)\n",
    "\n",
    "# 将对角线上的值设置为一个很大的数，以排除自己与自己的情况\n",
    "for i in range(len(distances)):\n",
    "    distances[i, i] = float('inf')\n",
    "\n",
    "print(\"Distances tensor shape:\", distances.shape)\n"
   ]
  },
  {
   "cell_type": "code",
   "execution_count": 3,
   "metadata": {},
   "outputs": [],
   "source": [
    "import struct\n",
    "def read_graph(filename):\n",
    "    graph_data = []\n",
    "    with open(filename, 'rb') as file:\n",
    "        while True:\n",
    "            # 读取节点的邻居数量\n",
    "            gk_data = file.read(4)\n",
    "            if not gk_data:\n",
    "                break  # 文件读取完毕\n",
    "            gk = struct.unpack('I', gk_data)[0]  # 解析为无符号整数\n",
    "\n",
    "            # 读取邻居列表\n",
    "            neighbors_data = file.read(4 * gk)\n",
    "            neighbors = struct.unpack(f'{gk}I', neighbors_data)  # 解析为无符号整数列表\n",
    "\n",
    "            # 添加节点数据到结果列表\n",
    "            graph_data.append(neighbors)\n",
    "\n",
    "    return graph_data\n",
    "\n",
    "# 读取文件\n",
    "filename = \"/home/sfy/study/data/sift_small/saft_learn_200nn_efanna.graph\"  # 将路径替换为你保存的文件路径\n",
    "graph_data = read_graph(filename)\n",
    "\n",
    "# 打印读取的数据\n",
    "for i, neighbors in enumerate(graph_data):\n",
    "    print(f\"Node {i + 1}: Neighbors={neighbors}\")\n",
    "print(len(graph_data))\n"
   ]
  },
  {
   "cell_type": "code",
   "execution_count": 1,
   "metadata": {},
   "outputs": [
    {
     "name": "stdout",
     "output_type": "stream",
     "text": [
      "Fused tensor shape: torch.Size([1024, 32])\n"
     ]
    }
   ],
   "source": [
    "import torch\n",
    "\n",
    "def pairwise_weighted_fusion(tensor):\n",
    "    \"\"\"\n",
    "    对输入张量中的每对向量进行加权融合。\n",
    "\n",
    "    参数：\n",
    "    - tensor: 输入张量，形状为 (N, D)，其中 N 是向量数量，D 是向量维度。\n",
    "\n",
    "    返回值：\n",
    "    - fused_tensor: 融合后的张量，形状与输入张量相同。\n",
    "    \"\"\"\n",
    "    N, D = tensor.shape\n",
    "\n",
    "    # 创建一个新的张量来存储融合结果\n",
    "    fused_tensor = torch.zeros(N, D)\n",
    "\n",
    "    # 遍历每对向量\n",
    "    for i in range(N):\n",
    "        for j in range(N):\n",
    "            if i != j:  # 排除自己和自己融合\n",
    "                # 计算加权平均值\n",
    "                weight_i = torch.randn(1)  # 假设权重为随机值\n",
    "                weight_j = torch.randn(1)  # 假设权重为随机值\n",
    "                fused_tensor[i] += tensor[i] * weight_i + tensor[j] * weight_j\n",
    "\n",
    "    return fused_tensor\n",
    "\n",
    "# 示例数据\n",
    "tensor = torch.randn(1024, 32)\n",
    "\n",
    "# 调用函数进行加权融合\n",
    "fused_tensor = pairwise_weighted_fusion(tensor)\n",
    "print(\"Fused tensor shape:\", fused_tensor.shape)\n"
   ]
  },
  {
   "cell_type": "code",
   "execution_count": 2,
   "metadata": {},
   "outputs": [
    {
     "name": "stdout",
     "output_type": "stream",
     "text": [
      "Combined tensor shape: torch.Size([1024, 1023, 32])\n"
     ]
    }
   ],
   "source": [
    "import torch\n",
    "\n",
    "# 创建示例数据\n",
    "tensor = torch.randn(1024, 32)\n",
    "\n",
    "# 计算加权融合\n",
    "combined_tensor = torch.zeros(1024, 1024, 32)\n",
    "for i in range(1024):\n",
    "    for j in range(1024):\n",
    "        if i != j:  # 排除自己和自己融合\n",
    "            # 计算加权平均值\n",
    "            weight_i = torch.randn(1)  # 假设权重为随机值\n",
    "            weight_j = torch.randn(1)  # 假设权重为随机值\n",
    "            combined_tensor[i, j] = tensor[i] * weight_i + tensor[j] * weight_j\n",
    "\n",
    "print(\"Combined tensor shape:\", combined_tensor.shape)\n"
   ]
  },
  {
   "cell_type": "code",
   "execution_count": 10,
   "metadata": {},
   "outputs": [
    {
     "name": "stdout",
     "output_type": "stream",
     "text": [
      "Selected elements: [array([1, 2, 3]), array([7, 8, 9])]\n"
     ]
    }
   ],
   "source": [
    "import numpy as np\n",
    "\n",
    "# 示例数组\n",
    "arr = np.array([\n",
    "    [[1, 2, 3], [4, 5, 6], [7, 8, 9]],\n",
    "    [[10, 11, 12], [13, 14, 15], [16, 17, 18]],\n",
    "    [[19, 20, 21], [22, 23, 24], [25, 26, 27]]\n",
    "])\n",
    "\n",
    "# 示例下标元组\n",
    "neighbor = [0,2]\n",
    "\n",
    "# 使用元组下标从数组中取出元素\n",
    "# selected_elements = [arr[idx] for idx in indices]\n",
    "select = [arr[0,idx] for idx in neighbor]\n",
    "\n",
    "print(\"Selected elements:\", select)\n"
   ]
  },
  {
   "cell_type": "code",
   "execution_count": 13,
   "metadata": {},
   "outputs": [
    {
     "name": "stdout",
     "output_type": "stream",
     "text": [
      "(2, 6, 4585, 9256, 140, 9415, 114, 4399, 8002, 8797, 5976, 3033, 3912, 9040, 6335, 5131, 4589, 6517, 118, 4390, 4709, 9102, 205, 6489, 4729, 233, 4629, 9769, 5430, 4, 4391, 7839, 8441, 7007, 1525, 3911, 724, 6107, 6922, 474, 1647, 4828, 9170, 1656, 2995, 7117, 73, 3150, 4560, 4331, 8215, 9095, 4663, 104, 1275, 4592, 7050, 2120, 74, 2421, 3053, 5539, 1270, 8230, 1153, 4742, 5025, 4776, 5525, 8176, 4640, 4646, 3325, 5056, 1170, 5861, 9791, 4726, 4483, 5651, 4680, 7399, 1449, 4853, 8, 4553, 603, 4042, 962, 1546, 8649, 8761, 6683, 8599, 8915, 1659, 18, 9356, 3377, 4504, 4738, 3469, 5169, 2941, 9473, 3433, 4700, 5002, 4172, 5296, 1288, 4537, 4708, 2547, 6531, 5938, 7422, 4660, 1959, 1399, 6423, 78, 6839, 9105, 7309, 7049, 3600, 4737, 5220, 5367, 5297, 6266, 2462, 8661, 4393, 4593, 1144, 8263, 4639, 7662, 10, 2661, 704, 5354, 5091, 4509, 608, 9355, 688, 3382, 4725, 1911, 4854, 20, 57, 29, 4659, 784, 8300, 2655, 6446, 7264, 306, 5303, 252, 1639, 543, 1331, 4484, 9397, 8214, 4705, 4826, 5320, 4704, 4741, 351, 4676, 9883, 2194, 16, 4623, 1455, 5085, 5326, 2268, 1179, 1780, 2256, 5632, 8588, 5740, 730, 5720, 4906, 6679, 5540, 5007, 2071, 4830)\n"
     ]
    }
   ],
   "source": [
    "print(graph_data[0])\n"
   ]
  },
  {
   "cell_type": "code",
   "execution_count": 43,
   "metadata": {},
   "outputs": [
    {
     "name": "stdout",
     "output_type": "stream",
     "text": [
      "Sorted neighbors: tensor([1, 0, 2])\n"
     ]
    }
   ],
   "source": [
    "import torch\n",
    "\n",
    "# 示例邻居张量\n",
    "neighbor = torch.tensor([2, 1, 0])\n",
    "\n",
    "# 示例距离张量\n",
    "dist = torch.tensor([\n",
    "    [[1.5, 2.5, 13.5], [4.5, 5.5, 6.5], [7.5, 8.5, 14.5]],\n",
    "    [[10.5, 11.5, 12.5], [13.5, 14.5, 15.5], [16.5, 17.5, 18.5]],\n",
    "    [[19.5, 20.5, 21.5], [22.5, 23.5, 24.5], [25.5, 26.5, 27.5]]\n",
    "])\n",
    "\n",
    "# 根据距离数组中的距离对邻居进行排序\n",
    "sorted_indices = torch.argsort(dist[0, neighbor,2])\n",
    "sorted_neighbors = neighbor[sorted_indices]\n",
    "\n",
    "print(\"Sorted neighbors:\", sorted_neighbors)\n"
   ]
  },
  {
   "cell_type": "code",
   "execution_count": 1,
   "metadata": {},
   "outputs": [
    {
     "name": "stdout",
     "output_type": "stream",
     "text": [
      "tensor([10, 30, 50])\n"
     ]
    }
   ],
   "source": [
    "import torch\n",
    "\n",
    "# 示例数组\n",
    "arr = torch.tensor([10, 20, 30, 40, 50])\n",
    "\n",
    "# 一组索引\n",
    "indices = torch.tensor([0, 2, 4])\n",
    "\n",
    "# 使用 torch.index_select() 函数从数组中取出对应元素\n",
    "selected_elements = torch.index_select(arr, 0, indices)\n",
    "\n",
    "print(selected_elements)\n"
   ]
  },
  {
   "cell_type": "code",
   "execution_count": 2,
   "metadata": {},
   "outputs": [
    {
     "name": "stdout",
     "output_type": "stream",
     "text": [
      "['a', 'c', 'e']\n"
     ]
    }
   ],
   "source": [
    "# 定义数组\n",
    "array = ['a', 'b', 'c', 'd', 'e']\n",
    "\n",
    "# 定义索引数组\n",
    "indexes = [0, 2, 4]\n",
    "\n",
    "# 使用列表推导式获取对应元素\n",
    "result = [array[i] for i in indexes]\n",
    "\n",
    "# 输出结果\n",
    "print(result)  # 输出: ['a', 'c', 'e']\n"
   ]
  }
 ],
 "metadata": {
  "kernelspec": {
   "display_name": "sfy",
   "language": "python",
   "name": "python3"
  },
  "language_info": {
   "codemirror_mode": {
    "name": "ipython",
    "version": 3
   },
   "file_extension": ".py",
   "mimetype": "text/x-python",
   "name": "python",
   "nbconvert_exporter": "python",
   "pygments_lexer": "ipython3",
   "version": "3.8.19"
  }
 },
 "nbformat": 4,
 "nbformat_minor": 2
}
