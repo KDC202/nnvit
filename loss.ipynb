{
 "cells": [
  {
   "cell_type": "code",
   "execution_count": 1,
   "metadata": {},
   "outputs": [
    {
     "name": "stdout",
     "output_type": "stream",
     "text": [
      "Triplet Loss: 0.9529377222061157\n"
     ]
    }
   ],
   "source": [
    "import torch\n",
    "\n",
    "# 定义三元组损失函数\n",
    "def triplet_loss(anchor, positive, negative, margin=1.0):\n",
    "    distance_positive = torch.norm(anchor - positive, p=2, dim=1)\n",
    "    distance_negative = torch.norm(anchor - negative, p=2, dim=1)\n",
    "    loss = torch.clamp(distance_positive - distance_negative + margin, min=0.0)\n",
    "    return loss.mean()\n",
    "\n",
    "# 创建一些示例数据\n",
    "anchor = torch.randn(5, 128)  # 锚点样本，假设为5个样本，每个样本128维特征\n",
    "positive = torch.randn(5, 128)  # 正样本，与锚点样本相似\n",
    "negative = torch.randn(5, 128)  # 负样本，与锚点样本不相似\n",
    "\n",
    "# 计算三元组损失\n",
    "loss = triplet_loss(anchor, positive, negative)\n",
    "print(\"Triplet Loss:\", loss.item())\n"
   ]
  },
  {
   "cell_type": "code",
   "execution_count": 2,
   "metadata": {},
   "outputs": [
    {
     "name": "stdout",
     "output_type": "stream",
     "text": [
      "Triplet Loss: 0.7699076533317566\n"
     ]
    }
   ],
   "source": [
    "import torch\n",
    "\n",
    "# 定义三元组损失函数\n",
    "def triplet_loss(anchor, positive, negatives, margin=1.0):\n",
    "    losses = []\n",
    "    for anchor_i, negative_i in zip(anchor, negatives):\n",
    "        distance_positive = torch.norm(anchor_i - positive, p=2)\n",
    "        distance_negative = torch.norm(anchor_i - negative_i, p=2)\n",
    "        loss_i = torch.clamp(distance_positive - distance_negative + margin, min=0.0)\n",
    "        losses.append(loss_i)\n",
    "    return torch.stack(losses).mean()\n",
    "\n",
    "# 创建示例数据\n",
    "num_samples = 5\n",
    "anchor = torch.randn(num_samples, 128)  # 锚点样本\n",
    "positive = torch.randn(num_samples, 128)  # 正样本\n",
    "negatives = [torch.randn(num_samples, 128) for _ in range(3)]  # 多个负样本\n",
    "\n",
    "# 计算三元组损失\n",
    "loss = triplet_loss(anchor, positive, negatives)\n",
    "print(\"Triplet Loss:\", loss.item())\n"
   ]
  },
  {
   "cell_type": "code",
   "execution_count": 4,
   "metadata": {},
   "outputs": [
    {
     "name": "stdout",
     "output_type": "stream",
     "text": [
      "Combined tensor shape: torch.Size([1024, 1024, 32])\n",
      "tensor([0., 0., 0., 0., 0., 0., 0., 0., 0., 0., 0., 0., 0., 0., 0., 0., 0., 0., 0., 0., 0., 0., 0., 0.,\n",
      "        0., 0., 0., 0., 0., 0., 0., 0.])\n"
     ]
    }
   ],
   "source": [
    "import torch\n",
    "\n",
    "# 创建示例数据\n",
    "tensor = torch.randn(1024, 32)\n",
    "\n",
    "# 计算加权融合\n",
    "combined_tensor = torch.zeros(1024, 1024, 32)\n",
    "for i in range(1024):\n",
    "    for j in range(1024):\n",
    "        if i != j:  # 排除自己和自己融合\n",
    "            # 计算加权平均值\n",
    "            weight_i = torch.randn(1)  # 假设权重为随机值\n",
    "            weight_j = torch.randn(1)  # 假设权重为随机值\n",
    "            combined_tensor[i, j] = tensor[i] * weight_i + tensor[j] * weight_j\n",
    "\n",
    "print(\"Combined tensor shape:\", combined_tensor.shape)\n",
    "print(combined_tensor[0,0])\n"
   ]
  },
  {
   "cell_type": "code",
   "execution_count": 3,
   "metadata": {},
   "outputs": [
    {
     "name": "stdout",
     "output_type": "stream",
     "text": [
      "Combined tensor shape: torch.Size([1024, 1023, 32])\n"
     ]
    }
   ],
   "source": [
    "import torch\n",
    "\n",
    "# 创建示例数据\n",
    "tensor = torch.randn(1024, 32)\n",
    "\n",
    "# 计算加权融合\n",
    "combined_tensor = torch.zeros(1024, 1023, 32)  # 减去自己\n",
    "for i in range(1024):\n",
    "    index = 0\n",
    "    for j in range(1024):\n",
    "        if i != j:  # 排除自己和自己融合\n",
    "            # 计算加权平均值\n",
    "            weight_i = torch.randn(1)  # 假设权重为随机值\n",
    "            weight_j = torch.randn(1)  # 假设权重为随机值\n",
    "            combined_tensor[i, index] = tensor[i] * weight_i + tensor[j] * weight_j\n",
    "            index += 1\n",
    "\n",
    "print(\"Combined tensor shape:\", combined_tensor.shape)\n"
   ]
  }
 ],
 "metadata": {
  "kernelspec": {
   "display_name": "test",
   "language": "python",
   "name": "python3"
  },
  "language_info": {
   "codemirror_mode": {
    "name": "ipython",
    "version": 3
   },
   "file_extension": ".py",
   "mimetype": "text/x-python",
   "name": "python",
   "nbconvert_exporter": "python",
   "pygments_lexer": "ipython3",
   "version": "3.8.19"
  }
 },
 "nbformat": 4,
 "nbformat_minor": 2
}
